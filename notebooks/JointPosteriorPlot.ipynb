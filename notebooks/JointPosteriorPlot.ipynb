{
 "cells": [
  {
   "cell_type": "markdown",
   "metadata": {},
   "source": [
    "# Correlation matrix\n",
    "In this notebook, we create Figure S5 of the manuscript,\n",
    "which shows posterior correlations between the parameters.\n",
    "First, import some python modules"
   ]
  },
  {
   "cell_type": "code",
   "execution_count": 1,
   "metadata": {},
   "outputs": [],
   "source": [
    "import matplotlib\n",
    "import matplotlib.pyplot as plt\n",
    "import numpy as np\n",
    "import csv, sys, os\n",
    "import scipy.stats as sts\n",
    "import scipy\n",
    "import scipy.cluster\n",
    "from mpl_toolkits.axes_grid1.inset_locator import inset_axes"
   ]
  },
  {
   "cell_type": "markdown",
   "metadata": {},
   "source": [
    "Change the font of $\\LaTeX$ text in figures"
   ]
  },
  {
   "cell_type": "code",
   "execution_count": 2,
   "metadata": {},
   "outputs": [],
   "source": [
    "matplotlib.rc('font',**{'family':'sans-serif','sans-serif':['Helvetica']})\n",
    "matplotlib.rc('text', usetex=True)"
   ]
  },
  {
   "cell_type": "markdown",
   "metadata": {},
   "source": [
    "### Import data\n",
    "and make a list of parameters and $\\LaTeX$ names"
   ]
  },
  {
   "cell_type": "code",
   "execution_count": 3,
   "metadata": {},
   "outputs": [],
   "source": [
    "## make sure notebook works on MS Windows and unix-like OSs\n",
    "filename = os.path.join(\"..\", \"output\", \"ganna_J3_wide-prior-alpha-gamma_DSD.csv\")\n",
    "\n",
    "with open(filename) as f:\n",
    "    reader = csv.DictReader(f)\n",
    "    posterior = [row for row in reader]\n",
    "    \n",
    "parkeys = ['r', 'beta_short_raw[1]', 'beta_short_raw[2]', \n",
    "           'inoculum', 'k', 'x0', 'alpha', 'zeta', 'gamma', 'epsilon']\n",
    "parkeys += [f'nu_short[{i+1}]' for i in range(8)]\n",
    "    \n",
    "pretty_parnames = {\n",
    "    'alpha' : \"$\\\\alpha$\",\n",
    "    'gamma' : \"$\\\\gamma$\",\n",
    "    'epsilon' : \"$\\\\epsilon$\",\n",
    "    'beta_short_raw[1]' : \"$\\\\beta_{[0,20)}$\",\n",
    "    'beta_short_raw[2]' : \"$\\\\beta_{[20,60)}$\", \n",
    "    'inoculum' : \"$\\\\theta$\", \n",
    "    'k' : \"$K_1$\", \n",
    "    'nu_short[1]' : \"$\\\\nu_{[0,20)}$\", \n",
    "    'nu_short[2]' : \"$\\\\nu_{[20,30)}$\", \n",
    "    'nu_short[3]' : \"$\\\\nu_{[30,40)}$\", \n",
    "    'nu_short[4]' : \"$\\\\nu_{[40,50)}$\", \n",
    "    'nu_short[5]' : \"$\\\\nu_{[50,60)}$\", \n",
    "    'nu_short[6]' : \"$\\\\nu_{[60,70)}$\", \n",
    "    'nu_short[7]' : \"$\\\\nu_{[70,80)}$\", \n",
    "    'nu_short[8]' : \"$\\\\nu_{80+}$\", \n",
    "    'r' : \"$r$\", \n",
    "    'x0' : \"$t_1$\", \n",
    "    'zeta' : \"$\\\\zeta_1$\"\n",
    "}"
   ]
  },
  {
   "cell_type": "markdown",
   "metadata": {},
   "source": [
    "### Compute posterior correlation matrix"
   ]
  },
  {
   "cell_type": "code",
   "execution_count": 4,
   "metadata": {},
   "outputs": [],
   "source": [
    "n = len(parkeys)\n",
    "corrmat = np.zeros((n,n))\n",
    "\n",
    "for i1 in range(n):\n",
    "    k1 = parkeys[i1]\n",
    "    x1s = [sam[k1] for sam in posterior]\n",
    "    for i2 in range(n):\n",
    "        k2 = parkeys[i2]\n",
    "        x2s = [sam[k2] for sam in posterior]        \n",
    "        rho, pval = sts.spearmanr(x1s, x2s)\n",
    "        corrmat[i1, i2] = rho\n"
   ]
  },
  {
   "cell_type": "markdown",
   "metadata": {},
   "source": [
    "### Make the figure"
   ]
  },
  {
   "cell_type": "code",
   "execution_count": 5,
   "metadata": {},
   "outputs": [
    {
     "data": {
      "image/png": "[encoded data removed]",
      "text/plain": [
       "<Figure size 329.655x322.455 with 1 Axes>"
      ]
     },
     "metadata": {
      "needs_background": "light"
     },
     "output_type": "display_data"
    }
   ],
   "source": [
    "fig, ax = plt.subplots(1, 1, figsize=(5,5))\n",
    "\n",
    "## don't plot lower triangle which is redundant\n",
    "mask = np.array([[i>j for i in range(n)] for j in range(n)])\n",
    "corrmat_masked = np.ma.masked_array(corrmat, mask=mask)\n",
    "\n",
    "C = ax.pcolormesh(corrmat_masked, vmin=-1, vmax=1, cmap=\"coolwarm\", rasterized=False)\n",
    "\n",
    "cx = ax.inset_axes([0.45, 0.15, 0.5, 0.05])\n",
    "#cx = inset_axes(ax, width='50%', height='5%', loc='lower right')\n",
    "fig.colorbar(C, cax=cx, orientation='horizontal')\n",
    "\n",
    "cx.set_xlabel(\"posterior Spearman correlation\")\n",
    "\n",
    "pos = range(n)\n",
    "ticks = [i + 0.5 for i in pos]\n",
    "tick_labels = [pretty_parnames[parkeys[i]] for i in pos]\n",
    "\n",
    "ax.set_xticks(ticks)\n",
    "ax.set_xticklabels(tick_labels, rotation=90)\n",
    "\n",
    "ax.xaxis.tick_top()\n",
    "\n",
    "ax.set_yticks(ticks)\n",
    "ax.set_yticklabels(tick_labels)\n",
    "\n",
    "figure_filename = os.path.join(\"..\", \"figures\", \"FigS5.pdf\")\n",
    "\n",
    "fig.savefig(figure_filename, bbox_inches='tight')"
   ]
  }
 ],
 "metadata": {
  "kernelspec": {
   "display_name": "Python 3",
   "language": "python",
   "name": "python3"
  },
  "language_info": {
   "codemirror_mode": {
    "name": "ipython",
    "version": 3
   },
   "file_extension": ".py",
   "mimetype": "text/x-python",
   "name": "python",
   "nbconvert_exporter": "python",
   "pygments_lexer": "ipython3",
   "version": "3.8.5"
  }
 },
 "nbformat": 4,
 "nbformat_minor": 4
}
